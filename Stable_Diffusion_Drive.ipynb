{
  "nbformat": 4,
  "nbformat_minor": 0,
  "metadata": {
    "colab": {
      "provenance": [],
      "collapsed_sections": [
        "rgVUI-VVs_ZD",
        "FQ8qR79AKXBL",
        "dxhH1zKWsVxm"
      ],
      "include_colab_link": true
    },
    "kernelspec": {
      "name": "python3",
      "display_name": "Python 3"
    },
    "language_info": {
      "name": "python"
    },
    "accelerator": "GPU",
    "gpuClass": "standard"
  },
  "cells": [
    {
      "cell_type": "markdown",
      "metadata": {
        "id": "view-in-github",
        "colab_type": "text"
      },
      "source": [
        "<a href=\"https://colab.research.google.com/github/xtapo/ADM-ULTIMATE-NEW-FREE/blob/master/Stable_Diffusion_Drive.ipynb\" target=\"_parent\"><img src=\"https://colab.research.google.com/assets/colab-badge.svg\" alt=\"Open In Colab\"/></a>"
      ]
    },
    {
      "cell_type": "markdown",
      "source": [
        "#💡Ấn ```CTR+F9``` để sử dụng\n",
        "\n",
        "*( kết nối drive khi được hỏi, sau 6-10 phút,nhấn vào link ***remote.moe*** để dùng )*\n",
        "\n",
        "---\n",
        "*📌 Quan trọng : Mọi người có thế tuỳ chỉnh colab để tải thêm model không sử dụng dung lượng drive để tối ưu dung lượng ở cuối phần 1.Tuỳ chỉnh theo ý thích để thêm model*\n",
        "\n",
        "*📌 Lưu ý: nếu chưa cài đặt lần đâu, hãy chạy link này trước : \n",
        "\n",
        "*Với lần đầu sử dụng nên setting VAE để tránh hiện tượng vỡ - hỏng màu ảnh với một số model cũ => Vào Setting - Stable Diffusion - Chọn sang VAE84 thay cho auto*\n",
        "\n",
        "\n",
        "\n",
        "##📖 Tài liệu bổ sung trong quá trình học tập, mở ô bị ẩn để xem thêm\n",
        "\n"
      ],
      "metadata": {
        "id": "rgVUI-VVs_ZD"
      }
    },
    {
      "cell_type": "markdown",
      "source": [
        "---\n",
        "**Công cụ**\n",
        "\n",
        "- Video hướng dẫn : https://youtu.be/6FXndsIQP74\n",
        "- Link Colab quick : https://bit.ly/QuickDiffusion\n",
        "- Colab Train : [Kohya Train](https://colab.research.google.com/github/Linaqruf/kohya-trainer/blob/main/kohya-LoRA-finetuner.ipynb#scrollTo=EKaZD-B3uCnz)\n",
        "- Nguồn SD webUI : [GitHub Automatic1111](https://github.com/AUTOMATIC1111/stable-diffusion-webui/) \n",
        "- Tham khảo : [GitHub Cameguru](https://github.com/camenduru/stable-diffusion-webui-colab/tree/v2.0) | [Discord](https://discord.gg/k5BwmmvJJU)\n",
        "- Link colab gốc : [Colab Drive](https://github.com/camenduru/stable-diffusion-webui-colab/tree/drive)\n",
        "\n",
        "\n",
        "\n",
        "---\n",
        "**Tư liệu học**\n",
        "\n",
        "- Kiến thức toàn tập : [All - Update - Giáo trình - Lý thuyết](https://rentry.org/niakonichan?fbclid=IwAR0T3kfNF-hoJ4RRuSssvWEa88bJxvZRX3izMgZv07WVQp_DGCYM2820jVc)\n",
        "- SD Artist Collection :[ Artist Collection](https://sgreens.notion.site/sgreens/4ca6f4e229e24da6845b6d49e6b08ae7?v=fdf861d1c65d456e98904fe3f3670bd3) | [Artists in SF](https://www.urania.ai/top-sd-artists)\n",
        "- Thư viện ảnh mẫu cho người mới bắt đầu : https://bit.ly/promptshare (Kéo ảnh vào PNGinfo trong giao diện UI để lấy prompt)\n",
        "- Tham khảo prompt : https://lexica.art | https://arthub.ai/library | https://creator.nolibox.com/gallery | https://prompthero.com | https://playgroundai.com\n",
        "\n",
        "\n",
        "---\n",
        "**Extensions**\n",
        "\n",
        "- Kohya train UI : https://github.com/ddpn08/kohya-sd-scripts-webui\n",
        "- Latent Couple : https://github.com/ashen-sensored/stable-diffusion-webui-two-shot\n",
        "- Merge Block Weighted : https://github.com/bbc-mc/sdweb-merge-block-weighted-gui\n",
        "- Lora Block Weight : https://github.com/hako-mikan/sd-webui-lora-block-weight\n",
        "\n",
        "---\n",
        "**Extra/Plugin**\n",
        "\n",
        "- Online Generated Prompt : [ MacgicPrompt ](https://huggingface.co/spaces/Gustavosta/MagicPrompt-Stable-Diffusion)\n",
        "- Online Png info : https://www.dcode.fr/png-chunks\n",
        "- SD to PTS : https://github.com/AbdullahAlfaraj/Auto-Photoshop-StableDiffusion-Plugin\n",
        "- InvokerAI : https://github.com/invoke-ai/InvokeAI\n",
        "\n",
        "\n",
        "---\n",
        "\n",
        "\n",
        "\n",
        "- Tác giả : [phamhungphoto](https://phamhungphoto.com/info/) | Nhận dạy thêm 1-1 với bạn nào có nhu cầu\n",
        "---\n",
        "**Trick để sử dụng với tài khoản gg khác khi hết thời gian : Share toàn bộ thư mục StableDiffusion cho tài khoản khác, tạo lối tắt => Drive của tôi**"
      ],
      "metadata": {
        "id": "qAkogqU4GLTH"
      }
    },
    {
      "cell_type": "code",
      "source": [
        "from google.colab import drive\n",
        "drive.mount('/content/drive')"
      ],
      "metadata": {
        "id": "Q_hvicb3XsT3",
        "outputId": "7fb5cfd6-42ec-4af8-d550-e123f7e978c1",
        "colab": {
          "base_uri": "https://localhost:8080/",
          "height": 329
        }
      },
      "execution_count": null,
      "outputs": [
        {
          "output_type": "error",
          "ename": "ValueError",
          "evalue": "ignored",
          "traceback": [
            "\u001b[0;31m---------------------------------------------------------------------------\u001b[0m",
            "\u001b[0;31mValueError\u001b[0m                                Traceback (most recent call last)",
            "\u001b[0;32m<ipython-input-1-d5df0069828e>\u001b[0m in \u001b[0;36m<module>\u001b[0;34m\u001b[0m\n\u001b[1;32m      1\u001b[0m \u001b[0;32mfrom\u001b[0m \u001b[0mgoogle\u001b[0m\u001b[0;34m.\u001b[0m\u001b[0mcolab\u001b[0m \u001b[0;32mimport\u001b[0m \u001b[0mdrive\u001b[0m\u001b[0;34m\u001b[0m\u001b[0;34m\u001b[0m\u001b[0m\n\u001b[0;32m----> 2\u001b[0;31m \u001b[0mdrive\u001b[0m\u001b[0;34m.\u001b[0m\u001b[0mmount\u001b[0m\u001b[0;34m(\u001b[0m\u001b[0;34m'/content/drive'\u001b[0m\u001b[0;34m)\u001b[0m\u001b[0;34m\u001b[0m\u001b[0;34m\u001b[0m\u001b[0m\n\u001b[0m",
            "\u001b[0;32m/usr/local/lib/python3.9/dist-packages/google/colab/drive.py\u001b[0m in \u001b[0;36mmount\u001b[0;34m(mountpoint, force_remount, timeout_ms, readonly)\u001b[0m\n\u001b[1;32m    101\u001b[0m \u001b[0;32mdef\u001b[0m \u001b[0mmount\u001b[0m\u001b[0;34m(\u001b[0m\u001b[0mmountpoint\u001b[0m\u001b[0;34m,\u001b[0m \u001b[0mforce_remount\u001b[0m\u001b[0;34m=\u001b[0m\u001b[0;32mFalse\u001b[0m\u001b[0;34m,\u001b[0m \u001b[0mtimeout_ms\u001b[0m\u001b[0;34m=\u001b[0m\u001b[0;36m120000\u001b[0m\u001b[0;34m,\u001b[0m \u001b[0mreadonly\u001b[0m\u001b[0;34m=\u001b[0m\u001b[0;32mFalse\u001b[0m\u001b[0;34m)\u001b[0m\u001b[0;34m:\u001b[0m\u001b[0;34m\u001b[0m\u001b[0;34m\u001b[0m\u001b[0m\n\u001b[1;32m    102\u001b[0m   \u001b[0;34m\"\"\"Mount your Google Drive at the specified mountpoint path.\"\"\"\u001b[0m\u001b[0;34m\u001b[0m\u001b[0;34m\u001b[0m\u001b[0m\n\u001b[0;32m--> 103\u001b[0;31m   return _mount(\n\u001b[0m\u001b[1;32m    104\u001b[0m       \u001b[0mmountpoint\u001b[0m\u001b[0;34m,\u001b[0m\u001b[0;34m\u001b[0m\u001b[0;34m\u001b[0m\u001b[0m\n\u001b[1;32m    105\u001b[0m       \u001b[0mforce_remount\u001b[0m\u001b[0;34m=\u001b[0m\u001b[0mforce_remount\u001b[0m\u001b[0;34m,\u001b[0m\u001b[0;34m\u001b[0m\u001b[0;34m\u001b[0m\u001b[0m\n",
            "\u001b[0;32m/usr/local/lib/python3.9/dist-packages/google/colab/drive.py\u001b[0m in \u001b[0;36m_mount\u001b[0;34m(mountpoint, force_remount, timeout_ms, ephemeral, readonly)\u001b[0m\n\u001b[1;32m    281\u001b[0m             \u001b[0;34m'https://research.google.com/colaboratory/faq.html#drive-timeout'\u001b[0m\u001b[0;34m\u001b[0m\u001b[0;34m\u001b[0m\u001b[0m\n\u001b[1;32m    282\u001b[0m         )\n\u001b[0;32m--> 283\u001b[0;31m       \u001b[0;32mraise\u001b[0m \u001b[0mValueError\u001b[0m\u001b[0;34m(\u001b[0m\u001b[0;34m'mount failed'\u001b[0m \u001b[0;34m+\u001b[0m \u001b[0mextra_reason\u001b[0m\u001b[0;34m)\u001b[0m\u001b[0;34m\u001b[0m\u001b[0;34m\u001b[0m\u001b[0m\n\u001b[0m\u001b[1;32m    284\u001b[0m     \u001b[0;32melif\u001b[0m \u001b[0mcase\u001b[0m \u001b[0;34m==\u001b[0m \u001b[0;36m4\u001b[0m\u001b[0;34m:\u001b[0m\u001b[0;34m\u001b[0m\u001b[0;34m\u001b[0m\u001b[0m\n\u001b[1;32m    285\u001b[0m       \u001b[0;31m# Terminate the DriveFS binary before killing bash.\u001b[0m\u001b[0;34m\u001b[0m\u001b[0;34m\u001b[0m\u001b[0m\n",
            "\u001b[0;31mValueError\u001b[0m: mount failed"
          ]
        }
      ]
    },
    {
      "cell_type": "code",
      "source": [],
      "metadata": {
        "id": "a9nL9AGLnX10"
      },
      "execution_count": null,
      "outputs": []
    },
    {
      "cell_type": "markdown",
      "source": [
        "#💡 Phương pháp add thêm model tuỳ chọn, bỏ qua nếu không cần"
      ],
      "metadata": {
        "id": "FQ8qR79AKXBL"
      }
    },
    {
      "cell_type": "code",
      "source": [
        "#Cách 1:Mã add thêm model trực tiếp\n",
        "\n",
        "#from google.colab import drive\n",
        "#drive.mount('/content/drive')\n",
        "#!apt-get -y install -qq aria2\n",
        "#!aria2c --console-log-level=error -c -x 16 -s 16 -k 1M https://huggingface.co/ckpt/anything-v4.5-vae-swapped/resolve/main/anything-v4.5-vae-swapped.safetensors -d /content/drive/StableDiffusion/stable-diffusion-webui/models/Stable-diffusion -o anything-v4.5-vae-swapped.safetensors\n",
        "\n",
        "#Cách 2:Tải trong giao diện UI với extensions CiviAI\n",
        "\n",
        "#Cách 3:Mẫu link chạy trong extensions HuggingFace trong giao diện UI\n",
        "\n",
        "#wget https://huggingface.co/hakurei/waifu-diffusion-v1-4/resolve/main/wd-1-4-anime_e1.ckpt -O /content/drive/StableDiffusion/stable-diffusion-webui/models/Stable-diffusion/ - Paint/Waijuv14.ckpt\n",
        "\n",
        "#Cách 4 : Copy trực tiếp vào thư mục  /content/drive/Shareddrives/AI/StableDiffusion/stable-diffusion-webui/models/Stable-diffusion/\n",
        "\n",
        "#Lora : /content/drive/Shareddrives/AI/StableDiffusion/stable-diffusion-webui/models/Lora\n",
        "#Hypernetworks : /content/drive/Shareddrives/AI/StableDiffusion/stable-diffusion-webui/models/hypernetworks\n",
        "#Textual : /content/drive/Shareddrives/AI/StableDiffusion/stable-diffusion-webui/embeddings"
      ],
      "metadata": {
        "id": "mmlkDGWhJu8G"
      },
      "execution_count": null,
      "outputs": []
    },
    {
      "cell_type": "markdown",
      "source": [
        "#🔌 1.Chạy chương trình : Update - ```ADD model không chiếm tài nguyên Drive```\n",
        "* Lưu ý : Thời gian 2-3 phút, lâu hơn nếu có update"
      ],
      "metadata": {
        "id": "dxhH1zKWsVxm"
      }
    },
    {
      "cell_type": "code",
      "execution_count": null,
      "metadata": {
        "id": "s_FpkEzRrWx5",
        "colab": {
          "base_uri": "https://localhost:8080/",
          "height": 64
        },
        "outputId": "1928d132-7f1a-474e-a279-5f176ac4d6de"
      },
      "outputs": [
        {
          "output_type": "stream",
          "name": "stdout",
          "text": [
            "Drive already mounted at /content/drive; to attempt to forcibly remount, call drive.mount(\"/content/drive\", force_remount=True).\n"
          ]
        }
      ],
      "source": [
        "#@title\n",
        "from google.colab import drive\n",
        "drive.mount('/content/drive')\n",
        "\n",
        "import os\n",
        "from google.colab.output import eval_js\n",
        "os.environ['colab_url'] = eval_js(\"google.colab.kernel.proxyPort(7860, {'cache': false})\")\n",
        "\n",
        "!apt -y update -qq\n",
        "!wget http://launchpadlibrarian.net/367274644/libgoogle-perftools-dev_2.5-2.2ubuntu3_amd64.deb\n",
        "!wget https://launchpad.net/ubuntu/+source/google-perftools/2.5-2.2ubuntu3/+build/14795286/+files/google-perftools_2.5-2.2ubuntu3_all.deb\n",
        "!wget https://launchpad.net/ubuntu/+source/google-perftools/2.5-2.2ubuntu3/+build/14795286/+files/libtcmalloc-minimal4_2.5-2.2ubuntu3_amd64.deb\n",
        "!wget https://launchpad.net/ubuntu/+source/google-perftools/2.5-2.2ubuntu3/+build/14795286/+files/libgoogle-perftools4_2.5-2.2ubuntu3_amd64.deb\n",
        "!apt install -qq libunwind8-dev\n",
        "!dpkg -i *.deb\n",
        "%env LD_PRELOAD=libtcmalloc.so\n",
        "!rm *.deb\n",
        "\n",
        "!apt -y install -qq aria2\n",
        "!pip install -q --pre xformers\n",
        "!pip install -q --pre triton\n",
        "\n",
        "#Cập nhật giao diện UI và extensions\n",
        "\n",
        "%cd /content/drive/Shareddrives/AI/StableDiffusion/stable-diffusion-webui\n",
        "!git reset --hard\n",
        "!git pull\n",
        "\n",
        "!git -C /content/drive/Shareddrives/AI/StableDiffusion/stable-diffusion-webui/extensions/deforum-for-automatic1111-webui pull\n",
        "!git -C /content/drive/Shareddrives/AI/StableDiffusion/stable-diffusion-webui/extensions/stable-diffusion-webui-images-browser pull\n",
        "!git -C /content/drive/Shareddrives/AI/StableDiffusion/stable-diffusion-webui/extensions/stable-diffusion-webui-huggingface pull\n",
        "!git -C /content/drive/Shareddrives/AI/StableDiffusion/stable-diffusion-webui/extensions/sd-civitai-browser pull\n",
        "!git -C /content/drive/Shareddrives/AI/StableDiffusion/stable-diffusion-webui/extensions/sd-webui-additional-networks pull\n",
        "!git -C /content/drive/Shareddrives/AI/StableDiffusion/stable-diffusion-webui/extensions/sd-webui-controlnet pull\n",
        "!git -C /content/drive/Shareddrives/AI/StableDiffusion/stable-diffusion-webui/extensions/openpose-editor pull\n",
        "!git -C /content/drive/Shareddrives/AI/StableDiffusion/stable-diffusion-webui/extensions/sd-webui-tunnels pull\n",
        "!git -C /content/drive/Shareddrives/AI/StableDiffusion/stable-diffusion-webui/extensions/sd-webui-ar pull\n",
        "!git -C /content/drive/Shareddrives/AI/StableDiffusion/stable-diffusion-webui/extensions/sd-webui-supermerger pull\n",
        "\n",
        "#Truy cập vào file launch\n",
        "\n",
        "!sed -i -e '''/    prepare_environment()/a\\    os.system\\(f\\\"\"\"sed -i -e ''\\\"s/dict()))/dict())).cuda()/g\\\"'' /content/drive/Shareddrives/AI/StableDiffusion/stable-diffusion-webui/repositories/stable-diffusion-stability-ai/ldm/util.py\"\"\")''' /content/drive/Shareddrives/AI/StableDiffusion/stable-diffusion-webui/launch.py\n",
        "!sed -i -e 's/checkout {commithash}/checkout --force {commithash}/g' /content/drive/Shareddrives/AI/StableDiffusion/stable-diffusion-webui/launch.py\n",
        "\n",
        "!mkdir /content/drive/Shareddrives/AI/StableDiffusion/stable-diffusion-webui/extensions/deforum-for-automatic1111-webui/models\n",
        "\n",
        "if not os.path.exists(f\"/content/drive/Shareddrives/AI/StableDiffusion/stable-diffusion-webui/models/CLIP\"):\n",
        "  os.mkdir(f\"/content/drive/Shareddrives/AI/StableDiffusion/stable-diffusion-webui/models/CLIP\")\n",
        "!aria2c --console-log-level=error -c -x 16 -s 16 -k 1M https://openaipublic.azureedge.net/clip/models/b8cca3fd41ae0c99ba7e8951adf17d267cdb84cd88be6f7c2e0eca1737a03836/ViT-L-14.pt -d /content/drive/Shareddrives/AI/StableDiffusion/stable-diffusion-webui/models/CLIP -o ViT-L-14.pt"
      ]
    },
    {
      "cell_type": "code",
      "source": [
        "#Tải thêm model/lưu trữ tạm thời tại colab/hỗ trợ dung lượng cho Drive 15G\n",
        "#3 model mặc định bên dưới, mọi người có thể đổi link \"https://huggingface.co/phamhungd/GuoZovya/resolve/main/GuoZovyav1.ckpt\" và tên \"GuoZovyav1.ckpt\" theo ý muốn để tải model mình cần\n",
        "\n",
        "!aria2c --console-log-level=error -c -x 16 -s 16 -k 1M https://huggingface.co/phamhungd/GuoZovya/resolve/main/GuoZovyav1.ckpt -d /content/drive/Shareddrives/AI/model -o GuoZovyav1.ckpt\n",
        "!aria2c --console-log-level=error -c -x 16 -s 16 -k 1M https://huggingface.co/phamhungd/GuoZovya/resolve/main/ChizLucky.ckpt -d /content/drive/Shareddrives/AI/model -o ChizLucky.ckpt"
      ],
      "metadata": {
        "id": "M0DSTPZ_IqAo",
        "colab": {
          "base_uri": "https://localhost:8080/"
        },
        "outputId": "33dd6214-f8df-4097-822e-569f3fec5d78"
      },
      "execution_count": null,
      "outputs": [
        {
          "output_type": "stream",
          "name": "stdout",
          "text": [
            "\u001b[0m\n",
            "Download Results:\n",
            "gid   |stat|avg speed  |path/URI\n",
            "======+====+===========+=======================================================\n",
            "a63ed0|\u001b[1;32mOK\u001b[0m  |    78MiB/s|/content/drive/Shareddrives/AI/model/GuoZovyav1.ckpt\n",
            "\n",
            "Status Legend:\n",
            "(OK):download completed.\n",
            " *** Download Progress Summary as of Sun Mar 19 01:11:50 2023 *** \n",
            "=\n",
            "[#0c5619 1.9GiB/1.9GiB(98%) CN:16 DL:35MiB ETA:1s]\n",
            "FILE: /content/drive/Shareddrives/AI/model/ChizLucky.ckpt\n",
            "-\n",
            "\n",
            "\u001b[0m\n",
            "Download Results:\n",
            "gid   |stat|avg speed  |path/URI\n",
            "======+====+===========+=======================================================\n",
            "0c5619|\u001b[1;32mOK\u001b[0m  |    38MiB/s|/content/drive/Shareddrives/AI/model/ChizLucky.ckpt\n",
            "\n",
            "Status Legend:\n",
            "(OK):download completed.\n"
          ]
        }
      ]
    },
    {
      "cell_type": "markdown",
      "source": [
        "#⌛️ 2.Chạy chương trình : ```Theo dõi - reset```\n",
        "*Lưu ý : Đợi 6-10 phút, click link remote.moe để sử dụng"
      ],
      "metadata": {
        "id": "CtKhKQV1szKA"
      }
    },
    {
      "cell_type": "code",
      "source": [
        "# Chạy và theo dõi, khi thấy chậm và có lỗi, ấn dừng lại và bắt đầu tiếp để khởi động lại quá trình\n",
        "# Đổi đuôi --remotemoe thành --cloudflared hoặc --gradio-queue nếu thấy sever chậm , xoá -- theme dark nếu không muốn giao diện tối, link googleusercontent chỉ hoạt động cùng trình duyệt và không hoạt động trong safari\n",
        "# --gradio-queue --googleusercontent --cloudflared --localhostrun --remotemoe --share --theme dark\n",
        "\n",
        "!python launch.py --share --xformers --enable-insecure-extension-access --theme dark --gradio-queue --clip-models-path /content/drive/Shareddrives/AI/StableDiffusion/stable-diffusion-webui/models/CLIP --remotemoe --ckpt-dir /content/drive/Shareddrives/AI/model"
      ],
      "metadata": {
        "id": "FkTIKZwas4n7"
      },
      "execution_count": null,
      "outputs": []
    }
  ]
}